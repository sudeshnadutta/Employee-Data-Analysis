{
 "cells": [
  {
   "cell_type": "markdown",
   "metadata": {},
   "source": [
    "## Loading Packages"
   ]
  },
  {
   "cell_type": "code",
   "execution_count": 1,
   "metadata": {},
   "outputs": [],
   "source": [
    "#loading packages\n",
    "import numpy as np\n",
    "import pandas as pd\n",
    "import pandas_profiling\n",
    "import seaborn as sns\n",
    "import matplotlib.pyplot as plt\n",
    "%matplotlib inline\n",
    "import warnings                                     # Ignore warning related to pandas_profiling\n",
    "warnings.filterwarnings('ignore')"
   ]
  },
  {
   "cell_type": "markdown",
   "metadata": {},
   "source": [
    "## Importing the employess dataset"
   ]
  },
  {
   "cell_type": "code",
   "execution_count": 3,
   "metadata": {
    "scrolled": false
   },
   "outputs": [
    {
     "data": {
      "text/html": [
       "<div>\n",
       "<style scoped>\n",
       "    .dataframe tbody tr th:only-of-type {\n",
       "        vertical-align: middle;\n",
       "    }\n",
       "\n",
       "    .dataframe tbody tr th {\n",
       "        vertical-align: top;\n",
       "    }\n",
       "\n",
       "    .dataframe thead th {\n",
       "        text-align: right;\n",
       "    }\n",
       "</style>\n",
       "<table border=\"1\" class=\"dataframe\">\n",
       "  <thead>\n",
       "    <tr style=\"text-align: right;\">\n",
       "      <th></th>\n",
       "      <th>Gender</th>\n",
       "      <th>Employee Number</th>\n",
       "      <th>Skills</th>\n",
       "      <th>Total Working Years</th>\n",
       "      <th>Work Life Balance</th>\n",
       "      <th>Performance Rating</th>\n",
       "      <th>Years At Company</th>\n",
       "      <th>MonthlyIncome(June-2018)</th>\n",
       "      <th>MonthlyIncome(June-2017)</th>\n",
       "    </tr>\n",
       "  </thead>\n",
       "  <tbody>\n",
       "    <tr>\n",
       "      <th>0</th>\n",
       "      <td>Female</td>\n",
       "      <td>1</td>\n",
       "      <td>Sales</td>\n",
       "      <td>8</td>\n",
       "      <td>1</td>\n",
       "      <td>3</td>\n",
       "      <td>6</td>\n",
       "      <td>5993</td>\n",
       "      <td>5893</td>\n",
       "    </tr>\n",
       "    <tr>\n",
       "      <th>1</th>\n",
       "      <td>Female</td>\n",
       "      <td>5</td>\n",
       "      <td>Research</td>\n",
       "      <td>8</td>\n",
       "      <td>3</td>\n",
       "      <td>3</td>\n",
       "      <td>8</td>\n",
       "      <td>5130</td>\n",
       "      <td>4000</td>\n",
       "    </tr>\n",
       "    <tr>\n",
       "      <th>2</th>\n",
       "      <td>Female</td>\n",
       "      <td>10</td>\n",
       "      <td>Content Writing</td>\n",
       "      <td>12</td>\n",
       "      <td>2</td>\n",
       "      <td>4</td>\n",
       "      <td>1</td>\n",
       "      <td>2090</td>\n",
       "      <td>3050</td>\n",
       "    </tr>\n",
       "    <tr>\n",
       "      <th>3</th>\n",
       "      <td>Female</td>\n",
       "      <td>15</td>\n",
       "      <td>Content Writing</td>\n",
       "      <td>10</td>\n",
       "      <td>3</td>\n",
       "      <td>3</td>\n",
       "      <td>9</td>\n",
       "      <td>2909</td>\n",
       "      <td>5909</td>\n",
       "    </tr>\n",
       "    <tr>\n",
       "      <th>4</th>\n",
       "      <td>Female</td>\n",
       "      <td>20</td>\n",
       "      <td>Sales</td>\n",
       "      <td>10</td>\n",
       "      <td>3</td>\n",
       "      <td>2</td>\n",
       "      <td>10</td>\n",
       "      <td>3468</td>\n",
       "      <td>2468</td>\n",
       "    </tr>\n",
       "  </tbody>\n",
       "</table>\n",
       "</div>"
      ],
      "text/plain": [
       "   Gender  Employee Number           Skills  Total Working Years  \\\n",
       "0  Female                1            Sales                    8   \n",
       "1  Female                5         Research                    8   \n",
       "2  Female               10  Content Writing                   12   \n",
       "3  Female               15  Content Writing                   10   \n",
       "4  Female               20            Sales                   10   \n",
       "\n",
       "   Work Life Balance  Performance Rating  Years At Company  \\\n",
       "0                  1                   3                 6   \n",
       "1                  3                   3                 8   \n",
       "2                  2                   4                 1   \n",
       "3                  3                   3                 9   \n",
       "4                  3                   2                10   \n",
       "\n",
       "   MonthlyIncome(June-2018)  MonthlyIncome(June-2017)  \n",
       "0                      5993                      5893  \n",
       "1                      5130                      4000  \n",
       "2                      2090                      3050  \n",
       "3                      2909                      5909  \n",
       "4                      3468                      2468  "
      ]
     },
     "execution_count": 3,
     "metadata": {},
     "output_type": "execute_result"
    }
   ],
   "source": [
    "employee = pd.read_csv(\"C:/Users/suddutta/Downloads/Term 1 data files/Term-1-master/Data/Casestudy/Employee data.csv\")\n",
    "employee.head()"
   ]
  },
  {
   "cell_type": "markdown",
   "metadata": {},
   "source": [
    "## Overview of the dataset"
   ]
  },
  {
   "cell_type": "code",
   "execution_count": 4,
   "metadata": {},
   "outputs": [
    {
     "name": "stdout",
     "output_type": "stream",
     "text": [
      "<class 'pandas.core.frame.DataFrame'>\n",
      "RangeIndex: 1470 entries, 0 to 1469\n",
      "Data columns (total 9 columns):\n",
      "Gender                      1470 non-null object\n",
      "Employee Number             1470 non-null int64\n",
      "Skills                      1470 non-null object\n",
      "Total Working Years         1470 non-null int64\n",
      "Work Life Balance           1470 non-null int64\n",
      "Performance Rating          1470 non-null int64\n",
      "Years At Company            1470 non-null int64\n",
      "MonthlyIncome(June-2018)    1470 non-null int64\n",
      "MonthlyIncome(June-2017)    1470 non-null int64\n",
      "dtypes: int64(7), object(2)\n",
      "memory usage: 103.4+ KB\n"
     ]
    }
   ],
   "source": [
    "employee.info() "
   ]
  },
  {
   "cell_type": "markdown",
   "metadata": {},
   "source": [
    "- There are a total of 1470 rows and 9 columns in the dataset\n",
    "- None of the columns have any missing values\n",
    "- Gender and Skills columns are categorical in nature while all the other columns are numeric"
   ]
  },
  {
   "cell_type": "markdown",
   "metadata": {},
   "source": [
    "## Summary of the data"
   ]
  },
  {
   "cell_type": "code",
   "execution_count": 5,
   "metadata": {
    "scrolled": false
   },
   "outputs": [
    {
     "data": {
      "text/html": [
       "<div>\n",
       "<style scoped>\n",
       "    .dataframe tbody tr th:only-of-type {\n",
       "        vertical-align: middle;\n",
       "    }\n",
       "\n",
       "    .dataframe tbody tr th {\n",
       "        vertical-align: top;\n",
       "    }\n",
       "\n",
       "    .dataframe thead th {\n",
       "        text-align: right;\n",
       "    }\n",
       "</style>\n",
       "<table border=\"1\" class=\"dataframe\">\n",
       "  <thead>\n",
       "    <tr style=\"text-align: right;\">\n",
       "      <th></th>\n",
       "      <th>Gender</th>\n",
       "      <th>Employee Number</th>\n",
       "      <th>Skills</th>\n",
       "      <th>Total Working Years</th>\n",
       "      <th>Work Life Balance</th>\n",
       "      <th>Performance Rating</th>\n",
       "      <th>Years At Company</th>\n",
       "      <th>MonthlyIncome(June-2018)</th>\n",
       "      <th>MonthlyIncome(June-2017)</th>\n",
       "    </tr>\n",
       "  </thead>\n",
       "  <tbody>\n",
       "    <tr>\n",
       "      <th>count</th>\n",
       "      <td>1470</td>\n",
       "      <td>1470.000000</td>\n",
       "      <td>1470</td>\n",
       "      <td>1470.000000</td>\n",
       "      <td>1470.000000</td>\n",
       "      <td>1470.000000</td>\n",
       "      <td>1470.000000</td>\n",
       "      <td>1470.000000</td>\n",
       "      <td>1470.000000</td>\n",
       "    </tr>\n",
       "    <tr>\n",
       "      <th>unique</th>\n",
       "      <td>2</td>\n",
       "      <td>NaN</td>\n",
       "      <td>7</td>\n",
       "      <td>NaN</td>\n",
       "      <td>NaN</td>\n",
       "      <td>NaN</td>\n",
       "      <td>NaN</td>\n",
       "      <td>NaN</td>\n",
       "      <td>NaN</td>\n",
       "    </tr>\n",
       "    <tr>\n",
       "      <th>top</th>\n",
       "      <td>Male</td>\n",
       "      <td>NaN</td>\n",
       "      <td>Sales</td>\n",
       "      <td>NaN</td>\n",
       "      <td>NaN</td>\n",
       "      <td>NaN</td>\n",
       "      <td>NaN</td>\n",
       "      <td>NaN</td>\n",
       "      <td>NaN</td>\n",
       "    </tr>\n",
       "    <tr>\n",
       "      <th>freq</th>\n",
       "      <td>1005</td>\n",
       "      <td>NaN</td>\n",
       "      <td>554</td>\n",
       "      <td>NaN</td>\n",
       "      <td>NaN</td>\n",
       "      <td>NaN</td>\n",
       "      <td>NaN</td>\n",
       "      <td>NaN</td>\n",
       "      <td>NaN</td>\n",
       "    </tr>\n",
       "    <tr>\n",
       "      <th>mean</th>\n",
       "      <td>NaN</td>\n",
       "      <td>1024.865306</td>\n",
       "      <td>NaN</td>\n",
       "      <td>11.279592</td>\n",
       "      <td>2.761224</td>\n",
       "      <td>3.116327</td>\n",
       "      <td>7.008163</td>\n",
       "      <td>6502.931293</td>\n",
       "      <td>6503.476871</td>\n",
       "    </tr>\n",
       "    <tr>\n",
       "      <th>std</th>\n",
       "      <td>NaN</td>\n",
       "      <td>602.024335</td>\n",
       "      <td>NaN</td>\n",
       "      <td>7.780782</td>\n",
       "      <td>0.706476</td>\n",
       "      <td>0.437447</td>\n",
       "      <td>6.126525</td>\n",
       "      <td>4707.956783</td>\n",
       "      <td>4706.952696</td>\n",
       "    </tr>\n",
       "    <tr>\n",
       "      <th>min</th>\n",
       "      <td>NaN</td>\n",
       "      <td>1.000000</td>\n",
       "      <td>NaN</td>\n",
       "      <td>0.000000</td>\n",
       "      <td>1.000000</td>\n",
       "      <td>1.000000</td>\n",
       "      <td>0.000000</td>\n",
       "      <td>1009.000000</td>\n",
       "      <td>1009.000000</td>\n",
       "    </tr>\n",
       "    <tr>\n",
       "      <th>25%</th>\n",
       "      <td>NaN</td>\n",
       "      <td>491.250000</td>\n",
       "      <td>NaN</td>\n",
       "      <td>6.000000</td>\n",
       "      <td>2.000000</td>\n",
       "      <td>3.000000</td>\n",
       "      <td>3.000000</td>\n",
       "      <td>2911.000000</td>\n",
       "      <td>2914.750000</td>\n",
       "    </tr>\n",
       "    <tr>\n",
       "      <th>50%</th>\n",
       "      <td>NaN</td>\n",
       "      <td>1020.500000</td>\n",
       "      <td>NaN</td>\n",
       "      <td>10.000000</td>\n",
       "      <td>3.000000</td>\n",
       "      <td>3.000000</td>\n",
       "      <td>5.000000</td>\n",
       "      <td>4919.000000</td>\n",
       "      <td>4919.000000</td>\n",
       "    </tr>\n",
       "    <tr>\n",
       "      <th>75%</th>\n",
       "      <td>NaN</td>\n",
       "      <td>1555.750000</td>\n",
       "      <td>NaN</td>\n",
       "      <td>15.000000</td>\n",
       "      <td>3.000000</td>\n",
       "      <td>3.000000</td>\n",
       "      <td>9.000000</td>\n",
       "      <td>8379.000000</td>\n",
       "      <td>8379.000000</td>\n",
       "    </tr>\n",
       "    <tr>\n",
       "      <th>max</th>\n",
       "      <td>NaN</td>\n",
       "      <td>2068.000000</td>\n",
       "      <td>NaN</td>\n",
       "      <td>40.000000</td>\n",
       "      <td>4.000000</td>\n",
       "      <td>4.000000</td>\n",
       "      <td>40.000000</td>\n",
       "      <td>19999.000000</td>\n",
       "      <td>19999.000000</td>\n",
       "    </tr>\n",
       "  </tbody>\n",
       "</table>\n",
       "</div>"
      ],
      "text/plain": [
       "       Gender  Employee Number Skills  Total Working Years  Work Life Balance  \\\n",
       "count    1470      1470.000000   1470          1470.000000        1470.000000   \n",
       "unique      2              NaN      7                  NaN                NaN   \n",
       "top      Male              NaN  Sales                  NaN                NaN   \n",
       "freq     1005              NaN    554                  NaN                NaN   \n",
       "mean      NaN      1024.865306    NaN            11.279592           2.761224   \n",
       "std       NaN       602.024335    NaN             7.780782           0.706476   \n",
       "min       NaN         1.000000    NaN             0.000000           1.000000   \n",
       "25%       NaN       491.250000    NaN             6.000000           2.000000   \n",
       "50%       NaN      1020.500000    NaN            10.000000           3.000000   \n",
       "75%       NaN      1555.750000    NaN            15.000000           3.000000   \n",
       "max       NaN      2068.000000    NaN            40.000000           4.000000   \n",
       "\n",
       "        Performance Rating  Years At Company  MonthlyIncome(June-2018)  \\\n",
       "count          1470.000000       1470.000000               1470.000000   \n",
       "unique                 NaN               NaN                       NaN   \n",
       "top                    NaN               NaN                       NaN   \n",
       "freq                   NaN               NaN                       NaN   \n",
       "mean              3.116327          7.008163               6502.931293   \n",
       "std               0.437447          6.126525               4707.956783   \n",
       "min               1.000000          0.000000               1009.000000   \n",
       "25%               3.000000          3.000000               2911.000000   \n",
       "50%               3.000000          5.000000               4919.000000   \n",
       "75%               3.000000          9.000000               8379.000000   \n",
       "max               4.000000         40.000000              19999.000000   \n",
       "\n",
       "        MonthlyIncome(June-2017)  \n",
       "count                1470.000000  \n",
       "unique                       NaN  \n",
       "top                          NaN  \n",
       "freq                         NaN  \n",
       "mean                 6503.476871  \n",
       "std                  4706.952696  \n",
       "min                  1009.000000  \n",
       "25%                  2914.750000  \n",
       "50%                  4919.000000  \n",
       "75%                  8379.000000  \n",
       "max                 19999.000000  "
      ]
     },
     "execution_count": 5,
     "metadata": {},
     "output_type": "execute_result"
    }
   ],
   "source": [
    "employee.describe(include = 'all')"
   ]
  },
  {
   "cell_type": "markdown",
   "metadata": {},
   "source": [
    "- 'Employee Number' is unique and does not reveal any valuable information. Hence, we will drop this column from our analysis\n",
    "- 'Gender' has 2 values with Male occuring most number of times\n",
    "- There are 7 different 'Skills' possessed by the employees of this company and Sales is the most frequently occuring skill\n",
    "- 75% employees working in the company have <= 15 years of experience while few have 40 years of experience as well which clearly suggests a right skewed distribution for 'Total Working Years' column\n",
    "- Similarly, 'Years At Company' is also skewed to the right with 75% employees having atmost 9 years of experience while few have 40 years\n",
    "- 'Work Life Balance' seems to be a discrete variable with values ranging between 1 and 4. It is basically a categorical(ordinal) variable where 1 = excellent and 4 = poor\n",
    "- Similarly ' Performance Rating' is also an ordinal varibale where 1 = excellent and 4 = poor\n",
    "- 'Years At Company' also seems to have a right skewed distribution with 40 as the max value while 75% values are within 9\n",
    "- monthly income columns do not show a significant change over the 2 years. Minimum and maximum remain same. There are changes only in the first 25% of observations where income was has slightly gone up in 2018. It is also right skewed"
   ]
  },
  {
   "cell_type": "markdown",
   "metadata": {},
   "source": [
    "### Dropping the Employee Number column"
   ]
  },
  {
   "cell_type": "code",
   "execution_count": 8,
   "metadata": {},
   "outputs": [],
   "source": [
    "employee.drop('Employee Number', axis = 1, inplace = True)"
   ]
  },
  {
   "cell_type": "code",
   "execution_count": 9,
   "metadata": {},
   "outputs": [
    {
     "data": {
      "text/html": [
       "<div>\n",
       "<style scoped>\n",
       "    .dataframe tbody tr th:only-of-type {\n",
       "        vertical-align: middle;\n",
       "    }\n",
       "\n",
       "    .dataframe tbody tr th {\n",
       "        vertical-align: top;\n",
       "    }\n",
       "\n",
       "    .dataframe thead th {\n",
       "        text-align: right;\n",
       "    }\n",
       "</style>\n",
       "<table border=\"1\" class=\"dataframe\">\n",
       "  <thead>\n",
       "    <tr style=\"text-align: right;\">\n",
       "      <th></th>\n",
       "      <th>Gender</th>\n",
       "      <th>Skills</th>\n",
       "      <th>Total Working Years</th>\n",
       "      <th>Work Life Balance</th>\n",
       "      <th>Performance Rating</th>\n",
       "      <th>Years At Company</th>\n",
       "      <th>MonthlyIncome(June-2018)</th>\n",
       "      <th>MonthlyIncome(June-2017)</th>\n",
       "    </tr>\n",
       "  </thead>\n",
       "  <tbody>\n",
       "    <tr>\n",
       "      <th>0</th>\n",
       "      <td>Female</td>\n",
       "      <td>Sales</td>\n",
       "      <td>8</td>\n",
       "      <td>1</td>\n",
       "      <td>3</td>\n",
       "      <td>6</td>\n",
       "      <td>5993</td>\n",
       "      <td>5893</td>\n",
       "    </tr>\n",
       "    <tr>\n",
       "      <th>1</th>\n",
       "      <td>Female</td>\n",
       "      <td>Research</td>\n",
       "      <td>8</td>\n",
       "      <td>3</td>\n",
       "      <td>3</td>\n",
       "      <td>8</td>\n",
       "      <td>5130</td>\n",
       "      <td>4000</td>\n",
       "    </tr>\n",
       "    <tr>\n",
       "      <th>2</th>\n",
       "      <td>Female</td>\n",
       "      <td>Content Writing</td>\n",
       "      <td>12</td>\n",
       "      <td>2</td>\n",
       "      <td>4</td>\n",
       "      <td>1</td>\n",
       "      <td>2090</td>\n",
       "      <td>3050</td>\n",
       "    </tr>\n",
       "    <tr>\n",
       "      <th>3</th>\n",
       "      <td>Female</td>\n",
       "      <td>Content Writing</td>\n",
       "      <td>10</td>\n",
       "      <td>3</td>\n",
       "      <td>3</td>\n",
       "      <td>9</td>\n",
       "      <td>2909</td>\n",
       "      <td>5909</td>\n",
       "    </tr>\n",
       "    <tr>\n",
       "      <th>4</th>\n",
       "      <td>Female</td>\n",
       "      <td>Sales</td>\n",
       "      <td>10</td>\n",
       "      <td>3</td>\n",
       "      <td>2</td>\n",
       "      <td>10</td>\n",
       "      <td>3468</td>\n",
       "      <td>2468</td>\n",
       "    </tr>\n",
       "  </tbody>\n",
       "</table>\n",
       "</div>"
      ],
      "text/plain": [
       "   Gender           Skills  Total Working Years  Work Life Balance  \\\n",
       "0  Female            Sales                    8                  1   \n",
       "1  Female         Research                    8                  3   \n",
       "2  Female  Content Writing                   12                  2   \n",
       "3  Female  Content Writing                   10                  3   \n",
       "4  Female            Sales                   10                  3   \n",
       "\n",
       "   Performance Rating  Years At Company  MonthlyIncome(June-2018)  \\\n",
       "0                   3                 6                      5993   \n",
       "1                   3                 8                      5130   \n",
       "2                   4                 1                      2090   \n",
       "3                   3                 9                      2909   \n",
       "4                   2                10                      3468   \n",
       "\n",
       "   MonthlyIncome(June-2017)  \n",
       "0                      5893  \n",
       "1                      4000  \n",
       "2                      3050  \n",
       "3                      5909  \n",
       "4                      2468  "
      ]
     },
     "execution_count": 9,
     "metadata": {},
     "output_type": "execute_result"
    }
   ],
   "source": [
    "employee.head()"
   ]
  },
  {
   "cell_type": "markdown",
   "metadata": {},
   "source": [
    "## Exploring the data via Univariate and Bivariate Analysis"
   ]
  },
  {
   "cell_type": "code",
   "execution_count": 10,
   "metadata": {},
   "outputs": [],
   "source": [
    "#employee['MonthlyIncome(June-2018)'].plot(kind = 'box', figsize = (15,15))\n"
   ]
  },
  {
   "cell_type": "markdown",
   "metadata": {},
   "source": [
    "### Distribution of Employees into Male and Female"
   ]
  },
  {
   "cell_type": "code",
   "execution_count": 64,
   "metadata": {
    "scrolled": true
   },
   "outputs": [
    {
     "data": {
      "text/plain": [
       "Male      1005\n",
       "Female     465\n",
       "Name: Gender, dtype: int64"
      ]
     },
     "execution_count": 64,
     "metadata": {},
     "output_type": "execute_result"
    }
   ],
   "source": [
    "#gender count\n",
    "employee.Gender.value_counts()"
   ]
  },
  {
   "cell_type": "code",
   "execution_count": 63,
   "metadata": {
    "scrolled": true
   },
   "outputs": [
    {
     "data": {
      "text/plain": [
       "<matplotlib.axes._subplots.AxesSubplot at 0x216fde3a0f0>"
      ]
     },
     "execution_count": 63,
     "metadata": {},
     "output_type": "execute_result"
    },
    {
     "data": {
      "image/png": "[encoded data removed]",
      "text/plain": [
       "<Figure size 432x288 with 1 Axes>"
      ]
     },
     "metadata": {
      "needs_background": "light"
     },
     "output_type": "display_data"
    }
   ],
   "source": [
    "sns.countplot('Gender', data = employee)"
   ]
  },
  {
   "cell_type": "markdown",
   "metadata": {},
   "source": [
    "- Male employees more than double of female employess"
   ]
  },
  {
   "cell_type": "markdown",
   "metadata": {},
   "source": [
    "### Different types of skills possessed by employees in the organisation"
   ]
  },
  {
   "cell_type": "code",
   "execution_count": 65,
   "metadata": {
    "scrolled": true
   },
   "outputs": [
    {
     "data": {
      "text/plain": [
       "<matplotlib.axes._subplots.AxesSubplot at 0x216fd4d0e80>"
      ]
     },
     "execution_count": 65,
     "metadata": {},
     "output_type": "execute_result"
    },
    {
     "data": {
      "image/png": "[encoded data removed]",
      "text/plain": [
       "<Figure size 1080x360 with 1 Axes>"
      ]
     },
     "metadata": {
      "needs_background": "light"
     },
     "output_type": "display_data"
    }
   ],
   "source": [
    "plt.figure(figsize = (15,5))\n",
    "sns.countplot('Skills', data = employee)"
   ]
  },
  {
   "cell_type": "markdown",
   "metadata": {},
   "source": [
    "- Sales department seems to have the maximum number of employees followed by Research and content writing departments"
   ]
  },
  {
   "cell_type": "markdown",
   "metadata": {},
   "source": [
    "### How Work Life Balance, Overall Years of experience, experience in company and Performance Rating vary across the organisation?"
   ]
  },
  {
   "cell_type": "code",
   "execution_count": 18,
   "metadata": {},
   "outputs": [
    {
     "data": {
      "text/plain": [
       "<matplotlib.axes._subplots.AxesSubplot at 0x2c5a52a2978>"
      ]
     },
     "execution_count": 18,
     "metadata": {},
     "output_type": "execute_result"
    },
    {
     "data": {
      "image/png": "[encoded data removed]",
      "text/plain": [
       "<Figure size 864x864 with 4 Axes>"
      ]
     },
     "metadata": {
      "needs_background": "light"
     },
     "output_type": "display_data"
    }
   ],
   "source": [
    "f,ax = plt.subplots(2,2, figsize = (12,12))\n",
    "sns.violinplot('Total Working Years', data = employee, ax = ax[0,0])\n",
    "sns.violinplot('Years At Company', data = employee, ax = ax[0,1])\n",
    "sns.violinplot('Work Life Balance', data = employee, ax = ax[1,0])\n",
    "sns.violinplot('Performance Rating', data = employee, ax = ax[1,1])"
   ]
  },
  {
   "cell_type": "markdown",
   "metadata": {},
   "source": [
    "- Most employees have 5-12 years of experience. Very few have more than 30 years\n",
    "- Most employees are working for maximum of 10 years at the company except for a few who have been there for more than 20 years to 40 years\n",
    "- Most employees' work life balance falls under category 3 which can be interpreted as average\n",
    "- Maximum employees get a performance rating of 3"
   ]
  },
  {
   "cell_type": "markdown",
   "metadata": {},
   "source": [
    "## How does the monthly income distribution vary for 2017 and 2018?"
   ]
  },
  {
   "cell_type": "code",
   "execution_count": 30,
   "metadata": {},
   "outputs": [
    {
     "data": {
      "text/plain": [
       "<matplotlib.axes._subplots.AxesSubplot at 0x2c5b2387dd8>"
      ]
     },
     "execution_count": 30,
     "metadata": {},
     "output_type": "execute_result"
    },
    {
     "data": {
      "image/png": "[encoded data removed]",
      "text/plain": [
       "<Figure size 1296x576 with 2 Axes>"
      ]
     },
     "metadata": {
      "needs_background": "light"
     },
     "output_type": "display_data"
    }
   ],
   "source": [
    "f,ax = plt.subplots(1,2, figsize = (18,8))\n",
    "sns.boxplot(y = 'MonthlyIncome(June-2017)', data = employee,ax = ax[0])\n",
    "sns.boxplot(y = 'MonthlyIncome(June-2018)', data = employee, ax = ax[1])\n"
   ]
  },
  {
   "cell_type": "markdown",
   "metadata": {},
   "source": [
    "- There seems to be no difference in the monthly income across the 2 years. However, in summary statistics we had found that there was very small change in the first 25% observations and since it was very small the difference can not be spotted visually above"
   ]
  },
  {
   "cell_type": "markdown",
   "metadata": {},
   "source": [
    "## Distribution of gender across Skills"
   ]
  },
  {
   "cell_type": "code",
   "execution_count": 66,
   "metadata": {
    "scrolled": true
   },
   "outputs": [
    {
     "data": {
      "text/plain": [
       "<matplotlib.axes._subplots.AxesSubplot at 0x216fda5c240>"
      ]
     },
     "execution_count": 66,
     "metadata": {},
     "output_type": "execute_result"
    },
    {
     "data": {
      "image/png": "[encoded data removed]",
      "text/plain": [
       "<Figure size 1080x360 with 1 Axes>"
      ]
     },
     "metadata": {
      "needs_background": "light"
     },
     "output_type": "display_data"
    }
   ],
   "source": [
    "plt.figure(figsize = (15,5))\n",
    "sns.countplot('Skills', data = employee, hue = 'Gender')"
   ]
  },
  {
   "cell_type": "markdown",
   "metadata": {},
   "source": [
    "- In all departments, men are more. Sales being the biggest department, both men and women are more there\n",
    "- In almost all departments it seems men are double in number than women. Only in workforce management department it seems that there is still a balance between the 2 genders"
   ]
  },
  {
   "cell_type": "markdown",
   "metadata": {},
   "source": [
    "## Variation in monthly income across gender"
   ]
  },
  {
   "cell_type": "code",
   "execution_count": 34,
   "metadata": {},
   "outputs": [
    {
     "data": {
      "text/plain": [
       "<matplotlib.axes._subplots.AxesSubplot at 0x2c5b2f8b4a8>"
      ]
     },
     "execution_count": 34,
     "metadata": {},
     "output_type": "execute_result"
    },
    {
     "data": {
      "image/png": "[encoded data removed]",
      "text/plain": [
       "<Figure size 864x576 with 2 Axes>"
      ]
     },
     "metadata": {
      "needs_background": "light"
     },
     "output_type": "display_data"
    }
   ],
   "source": [
    "f,ax = plt.subplots(1, 2, figsize = (12,8))\n",
    "sns.boxplot(x = 'Gender', y = 'MonthlyIncome(June-2017)', data = employee, ax = ax[0])\n",
    "sns.boxplot(x = 'Gender', y = 'MonthlyIncome(June-2018)', data = employee, ax = ax[1])"
   ]
  },
  {
   "cell_type": "markdown",
   "metadata": {},
   "source": [
    "- There does not seem to be any significant difference between monthly salaries of men and women in both 2017 and 2018 \n",
    "- The variation for men seems to be little less than women though there are more extreme observations in case of men\n",
    "- Ignoring outliers, female income is higher than male while including outliers it is the same"
   ]
  },
  {
   "cell_type": "markdown",
   "metadata": {},
   "source": [
    "## Variation in monthly income (2018) across Skills"
   ]
  },
  {
   "cell_type": "code",
   "execution_count": 55,
   "metadata": {},
   "outputs": [
    {
     "data": {
      "text/plain": [
       "<matplotlib.axes._subplots.AxesSubplot at 0x2c5b593ddd8>"
      ]
     },
     "execution_count": 55,
     "metadata": {},
     "output_type": "execute_result"
    },
    {
     "data": {
      "image/png": "[encoded data removed]",
      "text/plain": [
       "<Figure size 1080x360 with 1 Axes>"
      ]
     },
     "metadata": {
      "needs_background": "light"
     },
     "output_type": "display_data"
    }
   ],
   "source": [
    "plt.figure(figsize = (15,5))\n",
    "sns.boxplot(x = 'Skills', y = 'MonthlyIncome(June-2018)', data = employee )"
   ]
  },
  {
   "cell_type": "markdown",
   "metadata": {},
   "source": [
    "- Across all skills, the last 25% observations are quite spread out\n",
    "- Salary for employess having skill set delivery is quite spread out. median' salary is higher than any other skill.It could be because many seniors are there\n",
    "- In performance management only 1 employee gets much higher salary than others\n",
    "- Max value (except outlier) for sales, workforce management and employee relations are lower than any other skill. Outliers could be because of experience"
   ]
  },
  {
   "cell_type": "markdown",
   "metadata": {},
   "source": [
    "## Variation in monthly income (2018) across Skills for male and female"
   ]
  },
  {
   "cell_type": "code",
   "execution_count": 35,
   "metadata": {},
   "outputs": [
    {
     "data": {
      "text/plain": [
       "<matplotlib.axes._subplots.AxesSubplot at 0x2c5b2f73978>"
      ]
     },
     "execution_count": 35,
     "metadata": {},
     "output_type": "execute_result"
    },
    {
     "data": {
      "image/png": "[encoded data removed]",
      "text/plain": [
       "<Figure size 1080x360 with 1 Axes>"
      ]
     },
     "metadata": {
      "needs_background": "light"
     },
     "output_type": "display_data"
    }
   ],
   "source": [
    "plt.figure(figsize = (15,5))\n",
    "sns.boxplot(x = 'Skills', y = 'MonthlyIncome(June-2018)', data = employee, hue = 'Gender' )"
   ]
  },
  {
   "cell_type": "markdown",
   "metadata": {},
   "source": [
    "- Median salary for male are mostly higher than female across all skills except for research and content writing\n",
    "- For skill delivery, women have quite low salaries compared to men. However, there are 3 outliers. Ignoring outliers, delivery generates the highest salary for few male employees\n",
    "- Few male sales employees get the lowest salary\n",
    "- No female employee in performance management gets more than 15000 salary\n",
    "- Employee relations - min and max values are both high for female employees but median is higher for male. also spread is more for male\n",
    "- under workforce management skills, women employees have a much larger variation in salary which goes upto 19000. for male employees max salary is somewhere around 14000 except for a few outliers"
   ]
  },
  {
   "cell_type": "code",
   "execution_count": 83,
   "metadata": {},
   "outputs": [
    {
     "data": {
      "text/plain": [
       "<matplotlib.axes._subplots.AxesSubplot at 0x216fcb35ef0>"
      ]
     },
     "execution_count": 83,
     "metadata": {},
     "output_type": "execute_result"
    },
    {
     "data": {
      "image/png": "[encoded data removed]",
      "text/plain": [
       "<Figure size 432x288 with 1 Axes>"
      ]
     },
     "metadata": {
      "needs_background": "light"
     },
     "output_type": "display_data"
    }
   ],
   "source": [
    "employee['Years At Company'].plot(kind = 'box')\n",
    "#All values above 18 have been taken as outliers"
   ]
  },
  {
   "cell_type": "code",
   "execution_count": null,
   "metadata": {},
   "outputs": [],
   "source": [
    "#company can take a look at these employess who have been with it for so long and may be acknowledge their efforts\n",
    "#or look at their salaries and consider higher levels\n",
    "#important - can find out how many in these outliers are women and how many are men. more years generally means high\n",
    "#designations we can find how many women and men are there in those levels among total women and men respectively"
   ]
  },
  {
   "cell_type": "code",
   "execution_count": 86,
   "metadata": {},
   "outputs": [
    {
     "data": {
      "text/plain": [
       "Gender\n",
       "Female    31\n",
       "Male      73\n",
       "Name: Years At Company, dtype: int64"
      ]
     },
     "execution_count": 86,
     "metadata": {},
     "output_type": "execute_result"
    }
   ],
   "source": [
    "senior_level = employee[employee['Years At Company'] > 18]\n",
    "senior_level.groupby('Gender')['Years At Company'].count()"
   ]
  },
  {
   "cell_type": "code",
   "execution_count": 89,
   "metadata": {
    "scrolled": true
   },
   "outputs": [
    {
     "name": "stdout",
     "output_type": "stream",
     "text": [
      "0.06666666666666667\n",
      "0.07263681592039802\n"
     ]
    }
   ],
   "source": [
    "#This means 73 are male while 31 are women\n",
    "print(31/465)\n",
    "print(73/1005)\n",
    "#roughly same percentage of total men and women are there in senior levels"
   ]
  },
  {
   "cell_type": "markdown",
   "metadata": {},
   "source": [
    "## How work life balance varies across males and females"
   ]
  },
  {
   "cell_type": "code",
   "execution_count": 50,
   "metadata": {},
   "outputs": [
    {
     "data": {
      "text/plain": [
       "<matplotlib.axes._subplots.AxesSubplot at 0x2c5b44747b8>"
      ]
     },
     "execution_count": 50,
     "metadata": {},
     "output_type": "execute_result"
    },
    {
     "data": {
      "image/png": "[encoded data removed]",
      "text/plain": [
       "<Figure size 864x576 with 1 Axes>"
      ]
     },
     "metadata": {
      "needs_background": "light"
     },
     "output_type": "display_data"
    }
   ],
   "source": [
    "plt.figure(figsize = (12,8))\n",
    "sns.countplot('Work Life Balance', data = employee, hue = 'Gender')"
   ]
  },
  {
   "cell_type": "markdown",
   "metadata": {},
   "source": [
    "Mostly employees don't have a good kind of work life balanc. The count of both male and female is higher under work life balance 3."
   ]
  },
  {
   "cell_type": "markdown",
   "metadata": {},
   "source": [
    "## How Work Life Balance Varies across skills?"
   ]
  },
  {
   "cell_type": "code",
   "execution_count": 43,
   "metadata": {},
   "outputs": [
    {
     "data": {
      "text/plain": [
       "<matplotlib.axes._subplots.AxesSubplot at 0x2c5b3e441d0>"
      ]
     },
     "execution_count": 43,
     "metadata": {},
     "output_type": "execute_result"
    },
    {
     "data": {
      "image/png": "[encoded data removed]",
      "text/plain": [
       "<Figure size 1080x360 with 1 Axes>"
      ]
     },
     "metadata": {
      "needs_background": "light"
     },
     "output_type": "display_data"
    }
   ],
   "source": [
    "employee.groupby('Skills')['Work Life Balance'].value_counts().unstack().plot(kind = 'bar', figsize = (15,5))"
   ]
  },
  {
   "cell_type": "markdown",
   "metadata": {},
   "source": [
    "There does not seem to be any significant pattern between skill set and work life balance."
   ]
  },
  {
   "cell_type": "markdown",
   "metadata": {},
   "source": [
    "## Relation between Work Life Balance and Performance Rating"
   ]
  },
  {
   "cell_type": "code",
   "execution_count": 49,
   "metadata": {},
   "outputs": [
    {
     "data": {
      "text/html": [
       "<div>\n",
       "<style scoped>\n",
       "    .dataframe tbody tr th:only-of-type {\n",
       "        vertical-align: middle;\n",
       "    }\n",
       "\n",
       "    .dataframe tbody tr th {\n",
       "        vertical-align: top;\n",
       "    }\n",
       "\n",
       "    .dataframe thead th {\n",
       "        text-align: right;\n",
       "    }\n",
       "</style>\n",
       "<table border=\"1\" class=\"dataframe\">\n",
       "  <thead>\n",
       "    <tr style=\"text-align: right;\">\n",
       "      <th>Performance Rating</th>\n",
       "      <th>1</th>\n",
       "      <th>2</th>\n",
       "      <th>3</th>\n",
       "      <th>4</th>\n",
       "      <th>All</th>\n",
       "    </tr>\n",
       "    <tr>\n",
       "      <th>Work Life Balance</th>\n",
       "      <th></th>\n",
       "      <th></th>\n",
       "      <th></th>\n",
       "      <th></th>\n",
       "      <th></th>\n",
       "    </tr>\n",
       "  </thead>\n",
       "  <tbody>\n",
       "    <tr>\n",
       "      <th>1</th>\n",
       "      <td>0</td>\n",
       "      <td>0</td>\n",
       "      <td>66</td>\n",
       "      <td>14</td>\n",
       "      <td>80</td>\n",
       "    </tr>\n",
       "    <tr>\n",
       "      <th>2</th>\n",
       "      <td>3</td>\n",
       "      <td>9</td>\n",
       "      <td>284</td>\n",
       "      <td>48</td>\n",
       "      <td>344</td>\n",
       "    </tr>\n",
       "    <tr>\n",
       "      <th>3</th>\n",
       "      <td>7</td>\n",
       "      <td>23</td>\n",
       "      <td>722</td>\n",
       "      <td>141</td>\n",
       "      <td>893</td>\n",
       "    </tr>\n",
       "    <tr>\n",
       "      <th>4</th>\n",
       "      <td>0</td>\n",
       "      <td>3</td>\n",
       "      <td>127</td>\n",
       "      <td>23</td>\n",
       "      <td>153</td>\n",
       "    </tr>\n",
       "    <tr>\n",
       "      <th>All</th>\n",
       "      <td>10</td>\n",
       "      <td>35</td>\n",
       "      <td>1199</td>\n",
       "      <td>226</td>\n",
       "      <td>1470</td>\n",
       "    </tr>\n",
       "  </tbody>\n",
       "</table>\n",
       "</div>"
      ],
      "text/plain": [
       "Performance Rating   1   2     3    4   All\n",
       "Work Life Balance                          \n",
       "1                    0   0    66   14    80\n",
       "2                    3   9   284   48   344\n",
       "3                    7  23   722  141   893\n",
       "4                    0   3   127   23   153\n",
       "All                 10  35  1199  226  1470"
      ]
     },
     "execution_count": 49,
     "metadata": {},
     "output_type": "execute_result"
    }
   ],
   "source": [
    "tab1 = pd.crosstab(employee['Work Life Balance'], employee['Performance Rating'], margins = True)\n",
    "tab1"
   ]
  },
  {
   "cell_type": "markdown",
   "metadata": {},
   "source": [
    "- There are just no employees with Performance Rating = 1 and Work Life Balance also = 1\n",
    "- Mostly employees have average work life balance and average performance rating (both equal to 3)\n",
    "- May be company can focus on certain productivity and work life balance sessions to get more people under 1 and 2 categories of work life balance and performance rating"
   ]
  },
  {
   "cell_type": "markdown",
   "metadata": {},
   "source": [
    "## How performance rating varies across males and females"
   ]
  },
  {
   "cell_type": "code",
   "execution_count": 51,
   "metadata": {},
   "outputs": [
    {
     "data": {
      "text/plain": [
       "<matplotlib.axes._subplots.AxesSubplot at 0x2c5b4474208>"
      ]
     },
     "execution_count": 51,
     "metadata": {},
     "output_type": "execute_result"
    },
    {
     "data": {
      "image/png": "[encoded data removed]",
      "text/plain": [
       "<Figure size 864x576 with 1 Axes>"
      ]
     },
     "metadata": {
      "needs_background": "light"
     },
     "output_type": "display_data"
    }
   ],
   "source": [
    "plt.figure(figsize = (12,8))\n",
    "sns.countplot('Performance Rating', data = employee, hue = 'Gender')"
   ]
  },
  {
   "cell_type": "markdown",
   "metadata": {},
   "source": [
    "- Most of the employees have performance rating of 3\n",
    "- The number of female and male getting performance rating = 1 are same\n",
    "- More women in performance rating = 2 category than men"
   ]
  },
  {
   "cell_type": "markdown",
   "metadata": {},
   "source": [
    "## Does any particular skill help to achieve a high performance rating?"
   ]
  },
  {
   "cell_type": "code",
   "execution_count": 40,
   "metadata": {
    "scrolled": false
   },
   "outputs": [
    {
     "data": {
      "text/plain": [
       "Performance Rating  Gender  Skills                \n",
       "1                   Female  Sales                     3\n",
       "                            Content Writing           1\n",
       "                            Delivery                  1\n",
       "                    Male    Sales                     3\n",
       "                            Content Writing           1\n",
       "                            Research                  1\n",
       "2                   Female  Sales                     9\n",
       "                            Delivery                  4\n",
       "                            Workforce Management      4\n",
       "                            Content Writing           3\n",
       "                            Research                  3\n",
       "                            Employee relations        2\n",
       "                    Male    Sales                     4\n",
       "                            Research                  2\n",
       "                            Content Writing           1\n",
       "                            Employee relations        1\n",
       "                            Performance Management    1\n",
       "                            Workforce Management      1\n",
       "Name: Skills, dtype: int64"
      ]
     },
     "execution_count": 40,
     "metadata": {},
     "output_type": "execute_result"
    }
   ],
   "source": [
    "employee[employee['Performance Rating'].isin([1,2])].groupby(['Performance Rating', 'Gender'])['Skills'].value_counts()"
   ]
  },
  {
   "cell_type": "markdown",
   "metadata": {},
   "source": [
    "More female employees in performance rating 2 than men due to the fact that delivery does not have any men with\n",
    "good rating. Even in content writing, there are 4 women in 1-2 rating while only one man"
   ]
  },
  {
   "cell_type": "markdown",
   "metadata": {},
   "source": [
    "## Is high performance rating related to number of years spent at the company?"
   ]
  },
  {
   "cell_type": "code",
   "execution_count": 71,
   "metadata": {},
   "outputs": [
    {
     "data": {
      "text/plain": [
       "<matplotlib.axes._subplots.AxesSubplot at 0x2c5b6640828>"
      ]
     },
     "execution_count": 71,
     "metadata": {},
     "output_type": "execute_result"
    },
    {
     "data": {
      "image/png": "[encoded data removed]",
      "text/plain": [
       "<Figure size 1080x504 with 1 Axes>"
      ]
     },
     "metadata": {
      "needs_background": "light"
     },
     "output_type": "display_data"
    }
   ],
   "source": [
    "employee[employee['Performance Rating'].isin([1,2])].groupby('Years At Company').count()['Gender'].plot(kind = 'bar',\n",
    "                                                                figsize = (15,7))"
   ]
  },
  {
   "cell_type": "markdown",
   "metadata": {},
   "source": [
    "After 10 years, very few have good rating. So performance rating does not seems to be correlated with years spent at compnay. Good performance brings in good ratings"
   ]
  },
  {
   "cell_type": "markdown",
   "metadata": {},
   "source": [
    "### Is the same valid across gender?"
   ]
  },
  {
   "cell_type": "code",
   "execution_count": 72,
   "metadata": {
    "scrolled": true
   },
   "outputs": [
    {
     "data": {
      "text/plain": [
       "<matplotlib.axes._subplots.AxesSubplot at 0x2c5b6699f98>"
      ]
     },
     "execution_count": 72,
     "metadata": {},
     "output_type": "execute_result"
    },
    {
     "data": {
      "image/png": "[encoded data removed]",
      "text/plain": [
       "<Figure size 1080x360 with 1 Axes>"
      ]
     },
     "metadata": {
      "needs_background": "light"
     },
     "output_type": "display_data"
    }
   ],
   "source": [
    "plt.figure(figsize = (15,5))\n",
    "sns.countplot('Years At Company', data = employee[employee['Performance Rating'].isin([1,2])],\n",
    "             hue = 'Gender')"
   ]
  },
  {
   "cell_type": "markdown",
   "metadata": {},
   "source": [
    "Yes, same pattern can be seen across gender"
   ]
  },
  {
   "cell_type": "markdown",
   "metadata": {},
   "source": [
    "### We had seen in summary statistics that there was a slight increase in salary for the first 25% employees. Let's check where exactly the difference has occurred"
   ]
  },
  {
   "cell_type": "markdown",
   "metadata": {},
   "source": [
    "#### Let's compare monthly income between male and female "
   ]
  },
  {
   "cell_type": "code",
   "execution_count": 75,
   "metadata": {
    "scrolled": false
   },
   "outputs": [
    {
     "data": {
      "text/html": [
       "<div>\n",
       "<style scoped>\n",
       "    .dataframe tbody tr th:only-of-type {\n",
       "        vertical-align: middle;\n",
       "    }\n",
       "\n",
       "    .dataframe tbody tr th {\n",
       "        vertical-align: top;\n",
       "    }\n",
       "\n",
       "    .dataframe thead th {\n",
       "        text-align: right;\n",
       "    }\n",
       "</style>\n",
       "<table border=\"1\" class=\"dataframe\">\n",
       "  <thead>\n",
       "    <tr style=\"text-align: right;\">\n",
       "      <th></th>\n",
       "      <th>MonthlyIncome(June-2017)</th>\n",
       "      <th>MonthlyIncome(June-2018)</th>\n",
       "    </tr>\n",
       "    <tr>\n",
       "      <th>Gender</th>\n",
       "      <th></th>\n",
       "      <th></th>\n",
       "    </tr>\n",
       "  </thead>\n",
       "  <tbody>\n",
       "    <tr>\n",
       "      <th>Female</th>\n",
       "      <td>6511.053763</td>\n",
       "      <td>6509.329032</td>\n",
       "    </tr>\n",
       "    <tr>\n",
       "      <th>Male</th>\n",
       "      <td>6499.971144</td>\n",
       "      <td>6499.971144</td>\n",
       "    </tr>\n",
       "  </tbody>\n",
       "</table>\n",
       "</div>"
      ],
      "text/plain": [
       "        MonthlyIncome(June-2017)  MonthlyIncome(June-2018)\n",
       "Gender                                                    \n",
       "Female               6511.053763               6509.329032\n",
       "Male                 6499.971144               6499.971144"
      ]
     },
     "execution_count": 75,
     "metadata": {},
     "output_type": "execute_result"
    }
   ],
   "source": [
    "employee.groupby('Gender').agg('mean')[['MonthlyIncome(June-2017)','MonthlyIncome(June-2018)']]"
   ]
  },
  {
   "cell_type": "markdown",
   "metadata": {},
   "source": [
    "- There seems to be a slight decrease in female monthly income\n",
    "- Monthly income for male is same across 2 years\n",
    "- This could have happened had more female employees joined the company at certain positions or if experienced female employees have left the organisation"
   ]
  },
  {
   "cell_type": "markdown",
   "metadata": {},
   "source": [
    "#### Let's find out the difference"
   ]
  },
  {
   "cell_type": "code",
   "execution_count": 80,
   "metadata": {
    "scrolled": true
   },
   "outputs": [
    {
     "data": {
      "text/html": [
       "<div>\n",
       "<style scoped>\n",
       "    .dataframe tbody tr th:only-of-type {\n",
       "        vertical-align: middle;\n",
       "    }\n",
       "\n",
       "    .dataframe tbody tr th {\n",
       "        vertical-align: top;\n",
       "    }\n",
       "\n",
       "    .dataframe thead th {\n",
       "        text-align: right;\n",
       "    }\n",
       "</style>\n",
       "<table border=\"1\" class=\"dataframe\">\n",
       "  <thead>\n",
       "    <tr style=\"text-align: right;\">\n",
       "      <th></th>\n",
       "      <th></th>\n",
       "      <th>MonthlyIncome(June-2017)</th>\n",
       "      <th>MonthlyIncome(June-2018)</th>\n",
       "    </tr>\n",
       "    <tr>\n",
       "      <th>Gender</th>\n",
       "      <th>Total Working Years</th>\n",
       "      <th></th>\n",
       "      <th></th>\n",
       "    </tr>\n",
       "  </thead>\n",
       "  <tbody>\n",
       "    <tr>\n",
       "      <th rowspan=\"5\" valign=\"top\">Female</th>\n",
       "      <th>6</th>\n",
       "      <td>6687.878049</td>\n",
       "      <td>6664.170732</td>\n",
       "    </tr>\n",
       "    <tr>\n",
       "      <th>8</th>\n",
       "      <td>5111.964286</td>\n",
       "      <td>5155.892857</td>\n",
       "    </tr>\n",
       "    <tr>\n",
       "      <th>10</th>\n",
       "      <td>6711.557377</td>\n",
       "      <td>6693.524590</td>\n",
       "    </tr>\n",
       "    <tr>\n",
       "      <th>12</th>\n",
       "      <td>8814.133333</td>\n",
       "      <td>8750.133333</td>\n",
       "    </tr>\n",
       "    <tr>\n",
       "      <th>31</th>\n",
       "      <td>6478.750000</td>\n",
       "      <td>6728.750000</td>\n",
       "    </tr>\n",
       "  </tbody>\n",
       "</table>\n",
       "</div>"
      ],
      "text/plain": [
       "                            MonthlyIncome(June-2017)  MonthlyIncome(June-2018)\n",
       "Gender Total Working Years                                                    \n",
       "Female 6                                 6687.878049               6664.170732\n",
       "       8                                 5111.964286               5155.892857\n",
       "       10                                6711.557377               6693.524590\n",
       "       12                                8814.133333               8750.133333\n",
       "       31                                6478.750000               6728.750000"
      ]
     },
     "execution_count": 80,
     "metadata": {},
     "output_type": "execute_result"
    }
   ],
   "source": [
    "newdf = employee.groupby(['Gender','Total Working Years']).mean()[['MonthlyIncome(June-2017)','MonthlyIncome(June-2018)']]\n",
    "newdf.loc[newdf['MonthlyIncome(June-2017)'] != newdf['MonthlyIncome(June-2018)']]"
   ]
  },
  {
   "cell_type": "code",
   "execution_count": 82,
   "metadata": {},
   "outputs": [
    {
     "data": {
      "text/plain": [
       "<matplotlib.axes._subplots.AxesSubplot at 0x2c5b6bc0208>"
      ]
     },
     "execution_count": 82,
     "metadata": {},
     "output_type": "execute_result"
    },
    {
     "data": {
      "image/png": "[encoded data removed]",
      "text/plain": [
       "<Figure size 864x576 with 1 Axes>"
      ]
     },
     "metadata": {
      "needs_background": "light"
     },
     "output_type": "display_data"
    }
   ],
   "source": [
    "df_f = newdf.loc[newdf['MonthlyIncome(June-2017)'] != newdf['MonthlyIncome(June-2018)']]\n",
    "\n",
    "df_f.groupby('Total Working Years')[['MonthlyIncome(June-2017)','MonthlyIncome(June-2018)']].sum().plot(kind = 'bar',\n",
    "                                                            figsize = (12,8))"
   ]
  },
  {
   "cell_type": "markdown",
   "metadata": {},
   "source": [
    "- For employees with 6, 10 and years of experience, may be someonw who earned more than others with same number of years of experience left the company and average came down\n",
    "- For employees with 8 and above 30 years of experience also it could mean that someone with very high salary either ledt or joined the organisation that increased the average"
   ]
  }
 ],
 "metadata": {
  "kernelspec": {
   "display_name": "Python 3",
   "language": "python",
   "name": "python3"
  },
  "language_info": {
   "codemirror_mode": {
    "name": "ipython",
    "version": 3
   },
   "file_extension": ".py",
   "mimetype": "text/x-python",
   "name": "python",
   "nbconvert_exporter": "python",
   "pygments_lexer": "ipython3",
   "version": "3.7.3"
  }
 },
 "nbformat": 4,
 "nbformat_minor": 2
}
